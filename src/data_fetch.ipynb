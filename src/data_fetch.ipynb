{
 "cells": [
  {
   "cell_type": "code",
   "execution_count": 1,
   "id": "ac443669",
   "metadata": {},
   "outputs": [
    {
     "name": "stdout",
     "output_type": "stream",
     "text": [
      "📥 Downloading TSLA data from 2015-07-01 to 2025-07-31...\n",
      "YF.download() has changed argument auto_adjust default to True\n"
     ]
    },
    {
     "name": "stderr",
     "output_type": "stream",
     "text": [
      "[*********************100%***********************]  1 of 1 completed\n"
     ]
    },
    {
     "name": "stdout",
     "output_type": "stream",
     "text": [
      "✅ Saved TSLA data to data/raw\\TSLA_raw.csv\n",
      "📥 Downloading BND data from 2015-07-01 to 2025-07-31...\n"
     ]
    },
    {
     "name": "stderr",
     "output_type": "stream",
     "text": [
      "[*********************100%***********************]  1 of 1 completed\n",
      "\n",
      "1 Failed download:\n",
      "['BND']: Timeout('Failed to perform, curl: (28) Operation timed out after 10008 milliseconds with 45755 bytes received. See https://curl.se/libcurl/c/libcurl-errors.html first for more details.')\n"
     ]
    },
    {
     "name": "stdout",
     "output_type": "stream",
     "text": [
      "⚠️ No data found for BND. Skipping...\n",
      "📥 Downloading SPY data from 2015-07-01 to 2025-07-31...\n"
     ]
    },
    {
     "name": "stderr",
     "output_type": "stream",
     "text": [
      "[*********************100%***********************]  1 of 1 completed"
     ]
    },
    {
     "name": "stdout",
     "output_type": "stream",
     "text": [
      "✅ Saved SPY data to data/raw\\SPY_raw.csv\n"
     ]
    },
    {
     "name": "stderr",
     "output_type": "stream",
     "text": [
      "\n"
     ]
    }
   ],
   "source": [
    "\"\"\"\n",
    "Module: data_fetch.py\n",
    "Purpose: Fetch historical financial data from YFinance and save as CSV.\n",
    "\"\"\"\n",
    "\n",
    "import os\n",
    "import pandas as pd\n",
    "import yfinance as yf\n",
    "\n",
    "def fetch_data(tickers, start, end, save_path=\"data/raw\"):\n",
    "    \"\"\"\n",
    "    Fetch historical price data for given tickers using YFinance.\n",
    "\n",
    "    Args:\n",
    "        tickers (list): List of ticker symbols (e.g., ['TSLA', 'BND', 'SPY'])\n",
    "        start (str): Start date in 'YYYY-MM-DD' format\n",
    "        end (str): End date in 'YYYY-MM-DD' format\n",
    "        save_path (str): Directory to save raw data\n",
    "\n",
    "    Returns:\n",
    "        dict: Dictionary of DataFrames for each ticker\n",
    "    \"\"\"\n",
    "    os.makedirs(save_path, exist_ok=True)\n",
    "    data_dict = {}\n",
    "\n",
    "    for ticker in tickers:\n",
    "        print(f\"📥 Downloading {ticker} data from {start} to {end}...\")\n",
    "        df = yf.download(ticker, start=start, end=end)\n",
    "\n",
    "        if df.empty:\n",
    "            print(f\"⚠️ No data found for {ticker}. Skipping...\")\n",
    "            continue\n",
    "\n",
    "        # Save raw CSV\n",
    "        file_path = os.path.join(save_path, f\"{ticker}_raw.csv\")\n",
    "        df.to_csv(file_path)\n",
    "        print(f\"✅ Saved {ticker} data to {file_path}\")\n",
    "\n",
    "        data_dict[ticker] = df\n",
    "\n",
    "    return data_dict\n",
    "\n",
    "if __name__ == \"__main__\":\n",
    "    # Test run\n",
    "    tickers = ['TSLA', 'BND', 'SPY']\n",
    "    fetch_data(tickers, start=\"2015-07-01\", end=\"2025-07-31\")\n"
   ]
  },
  {
   "cell_type": "code",
   "execution_count": null,
   "id": "ce802975",
   "metadata": {},
   "outputs": [],
   "source": []
  }
 ],
 "metadata": {
  "kernelspec": {
   "display_name": "base",
   "language": "python",
   "name": "python3"
  },
  "language_info": {
   "codemirror_mode": {
    "name": "ipython",
    "version": 3
   },
   "file_extension": ".py",
   "mimetype": "text/x-python",
   "name": "python",
   "nbconvert_exporter": "python",
   "pygments_lexer": "ipython3",
   "version": "3.12.9"
  }
 },
 "nbformat": 4,
 "nbformat_minor": 5
}
